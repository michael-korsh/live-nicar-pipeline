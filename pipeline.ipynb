{
 "cells": [
  {
   "cell_type": "markdown",
   "id": "90ef4fd7-61d5-499c-9901-d40977e05b7d",
   "metadata": {},
   "source": [
    "# imports"
   ]
  },
  {
   "cell_type": "code",
   "execution_count": 2,
   "id": "9fadc3d0",
   "metadata": {},
   "outputs": [],
   "source": [
    "import requests\n",
    "import pandas as pd"
   ]
  },
  {
   "cell_type": "markdown",
   "id": "2a884e31",
   "metadata": {},
   "source": [
    "# acquire data"
   ]
  },
  {
   "cell_type": "code",
   "execution_count": 47,
   "id": "ade74e75",
   "metadata": {},
   "outputs": [],
   "source": [
    "api_url = \"https://opendata.maryland.gov/resource/crti-ybyp.json?$limit=5000\""
   ]
  },
  {
   "cell_type": "code",
   "execution_count": 48,
   "id": "0aa9dc42-12fa-45fa-bf8e-85d0d09dc8bf",
   "metadata": {},
   "outputs": [],
   "source": [
    "resp = requests.get(api_url)\n",
    "data = resp.json()"
   ]
  },
  {
   "cell_type": "code",
   "execution_count": 49,
   "id": "2f27b822-4d73-48e1-b64b-3092baff6fc3",
   "metadata": {},
   "outputs": [
    {
     "data": {
      "text/plain": [
       "{'sno': '1',\n",
       " 'complaint': '232264',\n",
       " 'complaint_description': 'concern of loud noise in the Cheverly area',\n",
       " 'complaint_type': 'Other',\n",
       " 'recieved_date': '2024-03-06',\n",
       " 'incident_date': '2024-03-06',\n",
       " 'county': \"Prince George's\",\n",
       " 'incident_closed_date': '2024-03-08',\n",
       " 'incident_status_desc': 'Incident Closed-Managed'}"
      ]
     },
     "execution_count": 49,
     "metadata": {},
     "output_type": "execute_result"
    }
   ],
   "source": [
    "data[0]"
   ]
  },
  {
   "cell_type": "code",
   "execution_count": 50,
   "id": "efc76f78-db62-4285-9bea-dd9554e21227",
   "metadata": {},
   "outputs": [],
   "source": [
    "df = pd.DataFrame(data)"
   ]
  },
  {
   "cell_type": "markdown",
   "id": "d8cfe4bd",
   "metadata": {},
   "source": [
    "# clean data"
   ]
  },
  {
   "cell_type": "code",
   "execution_count": 51,
   "id": "472a7ee3-c1a3-47d8-a889-9094ff43a007",
   "metadata": {},
   "outputs": [],
   "source": [
    "backup_df = df.copy()"
   ]
  },
  {
   "cell_type": "code",
   "execution_count": 52,
   "id": "4646be74-ff15-46fd-9d73-88755f5a1ffc",
   "metadata": {},
   "outputs": [],
   "source": [
    "df['recieved_date'] = pd.to_datetime(df['recieved_date'])\n",
    "df['incident_date'] = pd.to_datetime(df['incident_date'])\n",
    "df['incident_closed_date'] = pd.to_datetime(df['incident_closed_date'])"
   ]
  },
  {
   "cell_type": "code",
   "execution_count": 53,
   "id": "6d3a3ed1-563b-450b-a22b-3c95d72e0e7c",
   "metadata": {},
   "outputs": [
    {
     "data": {
      "text/plain": [
       "sno                              object\n",
       "complaint                        object\n",
       "complaint_description            object\n",
       "complaint_type                   object\n",
       "recieved_date            datetime64[ns]\n",
       "incident_date            datetime64[ns]\n",
       "county                           object\n",
       "incident_closed_date     datetime64[ns]\n",
       "incident_status_desc             object\n",
       "incident_zip                     object\n",
       "dtype: object"
      ]
     },
     "execution_count": 53,
     "metadata": {},
     "output_type": "execute_result"
    }
   ],
   "source": [
    "df.dtypes"
   ]
  },
  {
   "cell_type": "markdown",
   "id": "64305f4d",
   "metadata": {},
   "source": [
    "# analyze data"
   ]
  },
  {
   "cell_type": "code",
   "execution_count": 54,
   "id": "53f17b2d-8ebb-403c-ad25-52f8b041a5e0",
   "metadata": {},
   "outputs": [],
   "source": [
    "year_ago_date = pd.Timestamp('2023-03-09')"
   ]
  },
  {
   "cell_type": "code",
   "execution_count": 55,
   "id": "879ca285-3398-4ec6-a8a5-e8e2c598e68c",
   "metadata": {},
   "outputs": [],
   "source": [
    "last_year_df = df[df['recieved_date'] > year_ago_date].copy() # save as"
   ]
  },
  {
   "cell_type": "code",
   "execution_count": 65,
   "id": "6bc0484d-9d11-40e8-8672-a6dc12d8faca",
   "metadata": {},
   "outputs": [
    {
     "data": {
      "text/plain": [
       "county\n",
       "Baltimore City        101\n",
       "Anne Arundel           85\n",
       "Prince George's        83\n",
       "Frederick              62\n",
       "Baltimore              57\n",
       "Montgomery             35\n",
       "Cecil                  25\n",
       "Dorchester             17\n",
       "Harford                17\n",
       "Howard                 15\n",
       "Allegany               15\n",
       "Washington             14\n",
       "Charles                12\n",
       "Carroll                 9\n",
       "Wicomico                8\n",
       "Not Yet Determined      7\n",
       "Worcester               7\n",
       "St. Mary's              6\n",
       "Garrett                 5\n",
       "Caroline                3\n",
       "Queen Anne's            2\n",
       "Somerset                2\n",
       "Talbot                  1\n",
       "Kent                    1\n",
       "Statewide               1\n",
       "Name: count, dtype: int64"
      ]
     },
     "execution_count": 65,
     "metadata": {},
     "output_type": "execute_result"
    }
   ],
   "source": [
    "last_year_df['county'].value_counts()"
   ]
  },
  {
   "cell_type": "code",
   "execution_count": 78,
   "id": "dc1951bf-fa6e-4f7c-a98c-e8996827fc4a",
   "metadata": {},
   "outputs": [],
   "source": [
    "last_year_df['complaint_type'] = last_year_df['complaint_type'].str.split(', ') # split complaint type by delimiter"
   ]
  },
  {
   "cell_type": "code",
   "execution_count": 79,
   "id": "f422ee7d-d7fc-47da-afea-4883b6bd5a9b",
   "metadata": {},
   "outputs": [],
   "source": [
    "complaints_by_type = last_year_df.explode('complaint_type') # fleshes out column to individual rows\n",
    "last_year_by_type = complaints_by_type['complaint_type'].value_counts()"
   ]
  },
  {
   "cell_type": "code",
   "execution_count": 80,
   "id": "b6a2f6b4-cae1-4468-9f01-d5ad82956b29",
   "metadata": {},
   "outputs": [],
   "source": [
    "invalid = ['Not Yet Determined','Statewide']\n",
    "invalid_county_rows = last_year_df[last_year_df['county'].isin(invalid)]"
   ]
  },
  {
   "cell_type": "code",
   "execution_count": 81,
   "id": "274b2a39-585d-4345-a8d5-a16d0089a64e",
   "metadata": {},
   "outputs": [],
   "source": [
    "invalid_county_rows.to_csv('exported_data/invalid_counties.csv')"
   ]
  },
  {
   "cell_type": "code",
   "execution_count": 88,
   "id": "f436ccfd-d0f9-4556-af30-37eadbf649c7",
   "metadata": {},
   "outputs": [],
   "source": [
    "last_year_df = last_year_df[last_year_df['county'].isin(invalid) == False]"
   ]
  },
  {
   "cell_type": "code",
   "execution_count": 92,
   "id": "09bd088a-29ff-44d8-89f1-6db989ba94d6",
   "metadata": {},
   "outputs": [],
   "source": [
    "last_year_by_county = last_year_df['county'].value_counts()"
   ]
  },
  {
   "cell_type": "markdown",
   "id": "4849e5e3",
   "metadata": {},
   "source": [
    "# export data"
   ]
  },
  {
   "cell_type": "code",
   "execution_count": 94,
   "id": "a378c8a5-118d-4a78-b540-be9edb767d63",
   "metadata": {},
   "outputs": [],
   "source": [
    "last_year_by_type.to_csv('exported_data/complaint_type_frequency.csv')\n",
    "last_year_by_county.to_csv('exported_data/county_frequency.csv')\n",
    "last_year_df.to_csv('exported_data/all_complaints.csv',index=False)"
   ]
  }
 ],
 "metadata": {
  "kernelspec": {
   "display_name": "Python 3 (ipykernel)",
   "language": "python",
   "name": "python3"
  },
  "language_info": {
   "codemirror_mode": {
    "name": "ipython",
    "version": 3
   },
   "file_extension": ".py",
   "mimetype": "text/x-python",
   "name": "python",
   "nbconvert_exporter": "python",
   "pygments_lexer": "ipython3",
   "version": "3.11.8"
  }
 },
 "nbformat": 4,
 "nbformat_minor": 5
}
